{
 "cells": [
  {
   "cell_type": "code",
   "execution_count": null,
   "metadata": {},
   "outputs": [],
   "source": [
    "### IMPORTS ###\n",
    "import torch\n",
    "import datasets\n",
    "\n",
    "import os\n",
    "import spacy\n",
    "import numpy as np\n",
    "import pandas as pd\n",
    "\n",
    "from accelerate import Accelerator\n",
    "from huggingface_hub import get_full_repo_name, Repository, notebook_login\n",
    "from tqdm.auto import tqdm\n",
    "from transformers import AutoModelForTokenClassification, AutoTokenizer, DataCollatorForTokenClassification, pipeline, Trainer, TrainingArguments\n",
    "\n",
    "from pathlib import Path"
   ]
  },
  {
   "cell_type": "markdown",
   "metadata": {},
   "source": [
    "# exploration"
   ]
  },
  {
   "cell_type": "markdown",
   "metadata": {},
   "source": [
    "So original is just the post with all annotations, and SCT and MEDDRA are different types of tags, with SCT non drug terms and Meddra drug terms"
   ]
  },
  {
   "cell_type": "code",
   "execution_count": null,
   "metadata": {},
   "outputs": [],
   "source": [
    "# explore data\n",
    "\n",
    "# original example\n",
    "pd.read_csv(\"./data/CADEC.v2/cadec/original/ARTHROTEC.1.ann\", sep='\\t', header=None)"
   ]
  },
  {
   "cell_type": "code",
   "execution_count": null,
   "metadata": {},
   "outputs": [],
   "source": [
    "#  MedDRA example\n",
    "pd.read_csv(\"./data/CADEC.v2/cadec/meddra/ARTHROTEC.1.ann\", sep='\\t', header=None)"
   ]
  },
  {
   "cell_type": "code",
   "execution_count": null,
   "metadata": {},
   "outputs": [],
   "source": [
    "# SCT wxamples\n",
    "pd.read_csv(\"./data/CADEC.v2/cadec/sct/ARTHROTEC.1.ann\", sep='\\t', header=None)"
   ]
  },
  {
   "cell_type": "code",
   "execution_count": null,
   "metadata": {},
   "outputs": [],
   "source": [
    "annotation_directory = Path('./data/CADEC.v2/cadec/original')\n",
    "unique_drugs = set()\n",
    "\n",
    "for file_path in annotation_directory.glob('*.ann'):\n",
    "    with open(file_path, 'r') as file:\n",
    "        lines = file.readlines()\n",
    "        \n",
    "        for line in lines:\n",
    "            if '\\tDrug ' in line:\n",
    "                drug_name = line.split('\\t')[2].strip()\n",
    "                unique_drugs.add(drug_name)\n",
    "\n",
    "print('unique drug names: \\n')\n",
    "for i in unique_drugs:\n",
    "    print(i)\n",
    "\n",
    "print (\"\\n num: \", len(unique_drugs))"
   ]
  },
  {
   "cell_type": "code",
   "execution_count": null,
   "metadata": {},
   "outputs": [],
   "source": [
    "#drugs from paper\n",
    "\n",
    "drugs = ['ARTHROTEC', 'CAMBIA', 'CATAFLAM', 'DICLOFENAC-POTASSIUM', 'DICLOFENAC-SODIUM',\n",
    "         'FLECTOR', 'LIPITOR', 'PENNSAID', 'SOLARAZE', 'VOLTAREN', 'VOLTAREN-XR', 'ZIPSOR']"
   ]
  },
  {
   "cell_type": "code",
   "execution_count": null,
   "metadata": {},
   "outputs": [],
   "source": [
    "reports_per_drug = dict()\n",
    "\n",
    "\n",
    "print('amount of reports for each drug: \\n')\n",
    "\n",
    "# iterate over each drug\n",
    "for drug in drugs:\n",
    "    reports_directory = Path('./data/CADEC.v2/cadec/original')\n",
    "    \n",
    "    drug_files = reports_directory.glob(drug + '*.ann')\n",
    "    num_reports_for_current_drug = sum(1 for file in drug_files)\n",
    "    reports_per_drug[drug] = num_reports_for_current_drug\n",
    "    print(f'{drug} --> {num_reports_for_current_drug}')"
   ]
  },
  {
   "cell_type": "code",
   "execution_count": null,
   "metadata": {},
   "outputs": [],
   "source": []
  },
  {
   "cell_type": "code",
   "execution_count": null,
   "metadata": {},
   "outputs": [],
   "source": []
  }
 ],
 "metadata": {
  "kernelspec": {
   "display_name": "tokenization",
   "language": "python",
   "name": "python3"
  },
  "language_info": {
   "codemirror_mode": {
    "name": "ipython",
    "version": 3
   },
   "file_extension": ".py",
   "mimetype": "text/x-python",
   "name": "python",
   "nbconvert_exporter": "python",
   "pygments_lexer": "ipython3",
   "version": "3.10.13"
  }
 },
 "nbformat": 4,
 "nbformat_minor": 2
}
