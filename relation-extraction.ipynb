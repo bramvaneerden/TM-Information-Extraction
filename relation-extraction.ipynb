{
 "cells": [
  {
   "cell_type": "code",
   "execution_count": 10,
   "metadata": {},
   "outputs": [
    {
     "name": "stdout",
     "output_type": "stream",
     "text": [
      "drug aspirin\n",
      "reaction nausea\n",
      "Drug Relations:\n",
      "aspirin is related to nausea\n"
     ]
    }
   ],
   "source": [
    "ner_outputs = [\n",
    "    [('Patient', 'O'), ('experienced', 'O'), ('nausea', 'Symptom'), ('after', 'O'), ('taking', 'O'), ('aspirin', 'Drug')],\n",
    "    [('The', 'O'), ('patient', 'O'), ('was', 'O'), ('diagnosed', 'O'), ('with', 'O'), ('hypertension', 'Disease')]\n",
    "]\n",
    "\n",
    "def extract_relations_from_multiple(outputs):\n",
    "    relations = []\n",
    "\n",
    "    for ner_output in outputs:\n",
    "        drug = None\n",
    "        entity = None\n",
    "\n",
    "        for token, label in ner_output:\n",
    "            if label == 'Drug':\n",
    "                drug = token\n",
    "            if label in ['ADR', 'Disease', 'Symptom']:\n",
    "                entity = token\n",
    "            if drug and entity:\n",
    "                print(f'drug {drug}')\n",
    "                print(f'reaction {entity}')\n",
    "                relations.append((drug, entity))\n",
    "\n",
    "    return relations\n",
    "\n",
    "all_relations = extract_relations_from_multiple(ner_outputs)\n",
    "\n",
    "print(\"Drug Relations:\")\n",
    "for drug, entity in all_relations:\n",
    "    print(f\"{drug} is related to {entity}\")\n"
   ]
  }
 ],
 "metadata": {
  "kernelspec": {
   "display_name": "tokenization",
   "language": "python",
   "name": "python3"
  },
  "language_info": {
   "codemirror_mode": {
    "name": "ipython",
    "version": 3
   },
   "file_extension": ".py",
   "mimetype": "text/x-python",
   "name": "python",
   "nbconvert_exporter": "python",
   "pygments_lexer": "ipython3",
   "version": "3.10.13"
  }
 },
 "nbformat": 4,
 "nbformat_minor": 2
}
